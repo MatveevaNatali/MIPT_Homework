{
 "cells": [
  {
   "cell_type": "code",
   "execution_count": 17,
   "id": "420d96cf",
   "metadata": {},
   "outputs": [
    {
     "name": "stdout",
     "output_type": "stream",
     "text": [
      "{59.065: 'Австралийский доллар', 54.8706: 'Азербайджанский манат', 113.1861: 'Фунт стерлингов Соединенного королевства', 23.1815: 'Армянских драмов', 29.1519: 'Белорусский рубль', 50.6462: 'Болгарский лев', 18.445: 'Бразильский реал', 26.0174: 'Венгерских форинтов', 38.7231: 'Вьетнамских донгов', 11.9437: 'Гонконгский доллар', 34.4474: 'Грузинский лари', 13.2696: 'Датская крона', 25.3962: 'Дирхам ОАЭ', 93.2801: 'Доллар США', 98.4365: 'Евро', 30.1944: 'Египетских фунтов', 11.218: 'Индийских рупий', 58.6778: 'Индонезийских рупий', 19.8608: 'Казахстанских тенге', 67.2483: 'Канадский доллар', 25.6264: 'Катарский риал', 10.4434: 'Киргизских сомов', 12.7052: 'Китайский юань', 51.3634: 'Молдавских леев', 54.1025: 'Новозеландский доллар', 83.2776: 'Норвежских крон', 22.0421: 'Польский злотый', 19.8106: 'Румынский лей', 122.5831: 'СДР (специальные права заимствования)', 68.0926: 'Сингапурский доллар', 85.1663: 'Таджикских сомони', 25.7482: 'Таиландских батов', 33.0055: 'Турецких лир', 26.6515: 'Новый туркменский манат', 76.244: 'Узбекских сумов', 25.641: 'Украинских гривен', 40.3199: 'Чешских крон', 83.4385: 'Шведских крон', 104.6328: 'Швейцарский франк', 84.1486: 'Сербских динаров', 49.7983: 'Южноафриканских рэндов', 68.7247: 'Вон Республики Корея', 61.6524: 'Японских иен'}\n",
      "СДР (специальные права заимствования)\n"
     ]
    }
   ],
   "source": [
    "import requests\n",
    "\n",
    "\n",
    "class ValuteMax:\n",
    "    def __init__(self, format_='value'):\n",
    "        self.format = format_\n",
    "    \n",
    "    def show_current_format(self):\n",
    "        return self.format\n",
    "    \n",
    "    def show_current_format(self):\n",
    "        return self.format\n",
    "    \n",
    "    \n",
    "    \n",
    "response_object = requests.get('https://www.cbr-xml-daily.ru/daily_json.js')\n",
    "\n",
    "\n",
    "valute_object = response_object.json()['Valute']\n",
    "\n",
    "\n",
    "new_dict = {}\n",
    "\n",
    "\n",
    "for key in valute_object:\n",
    "    new_dict[valute_object[key]['Value']] = valute_object[key]['Name']\n",
    "\n",
    "\n",
    "print(new_dict[max(new_dict.keys())])\n",
    "\n",
    "\n",
    "\n",
    "    "
   ]
  },
  {
   "cell_type": "code",
   "execution_count": null,
   "id": "badd5285",
   "metadata": {},
   "outputs": [],
   "source": []
  },
  {
   "cell_type": "code",
   "execution_count": null,
   "id": "0ee50989",
   "metadata": {},
   "outputs": [],
   "source": []
  }
 ],
 "metadata": {
  "kernelspec": {
   "display_name": "Python 3 (ipykernel)",
   "language": "python",
   "name": "python3"
  },
  "language_info": {
   "codemirror_mode": {
    "name": "ipython",
    "version": 3
   },
   "file_extension": ".py",
   "mimetype": "text/x-python",
   "name": "python",
   "nbconvert_exporter": "python",
   "pygments_lexer": "ipython3",
   "version": "3.11.5"
  }
 },
 "nbformat": 4,
 "nbformat_minor": 5
}
