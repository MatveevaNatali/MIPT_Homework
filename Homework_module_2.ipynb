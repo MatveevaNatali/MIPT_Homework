{
 "cells": [
  {
   "cell_type": "code",
   "execution_count": null,
   "id": "e070fa2c",
   "metadata": {},
   "outputs": [],
   "source": []
  },
  {
   "cell_type": "code",
   "execution_count": 6,
   "id": "84ad58b7",
   "metadata": {},
   "outputs": [
    {
     "name": "stdout",
     "output_type": "stream",
     "text": [
      "2002-10-02 00:00:00\n",
      "2013-10-11 00:00:00\n",
      "1977-08-18 00:00:00\n"
     ]
    }
   ],
   "source": [
    "#Задание 1\n",
    "\n",
    "from datetime import datetime\n",
    "\n",
    "date_MoscowTimes = 'Wednesday, October 2, 2002'\n",
    "date_Guardian = 'Friday, 11.10.13'\n",
    "date_DailyNews = 'Thursday, 18 August 1977'\n",
    "\n",
    "datetime_MoscowTimes = datetime.strptime(date_MoscowTimes, '%A, %B %d, %Y')\n",
    "print(datetime_MoscowTimes)\n",
    "\n",
    "\n",
    "datetime_Guardian = datetime.strptime(date_Guardian, '%A, %d.%m.%y')\n",
    "print(datetime_Guardian)\n",
    "\n",
    "datetime_DailyNews = datetime.strptime(date_DailyNews, '%A, %d %B %Y')\n",
    "print(datetime_DailyNews)\n"
   ]
  },
  {
   "cell_type": "code",
   "execution_count": null,
   "id": "84dd7c9b",
   "metadata": {},
   "outputs": [],
   "source": [
    "# Задание 2\n",
    "Напишите функцию date_range, которая возвращает список дат за период от start_date до end_date. \n",
    "Даты должны вводиться в формате YYYY-MM-DD. В случае неверного формата или при start_date > end_date \n",
    "должен возвращаться пустой список.\n",
    "\n",
    "123\n",
    "Примеры работы программы при выводе первых трех строк файла funnel.csv:\n",
    "date_range(‘2022-01-01’, ‘2022-01-03’)\n",
    "[‘2022-01-01’, ‘2022-01-02’, ‘2022-01-03’]\n",
    "\n"
   ]
  },
  {
   "cell_type": "code",
   "execution_count": null,
   "id": "a1d3d4cd",
   "metadata": {},
   "outputs": [],
   "source": [
    "# Задание 2\n",
    "\n",
    "example_1 = []\n",
    "\n",
    "def date_range(string):\n",
    "    \n",
    "    \n",
    "    \n",
    "    \n",
    "    \n",
    "    \n",
    "    \n",
    "    "
   ]
  }
 ],
 "metadata": {
  "kernelspec": {
   "display_name": "Python 3 (ipykernel)",
   "language": "python",
   "name": "python3"
  },
  "language_info": {
   "codemirror_mode": {
    "name": "ipython",
    "version": 3
   },
   "file_extension": ".py",
   "mimetype": "text/x-python",
   "name": "python",
   "nbconvert_exporter": "python",
   "pygments_lexer": "ipython3",
   "version": "3.11.5"
  }
 },
 "nbformat": 4,
 "nbformat_minor": 5
}
